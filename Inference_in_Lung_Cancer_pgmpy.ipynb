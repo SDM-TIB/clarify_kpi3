{
 "cells": [
  {
   "cell_type": "markdown",
   "metadata": {},
   "source": [
    "# Load the Lung Cancer Data:\n",
    "Features considered:\n",
    "- Smoker: Current Smoker, Previous Smoker, Non-smoker\n",
    "- Gender: Man, Woman\n",
    "- Age: Young($\\leq$ 50), Old(>50)\n",
    "- Mutation: \n",
    "- Family: \n",
    "- Cancer: \n",
    "- Treatment: \n",
    "- Stage: \n",
    "- Relapse: "
   ]
  },
  {
   "cell_type": "code",
   "execution_count": 77,
   "metadata": {},
   "outputs": [],
   "source": [
    "import copy\n",
    "def clean_df(df_in):\n",
    "    df = copy.deepcopy(df_in)\n",
    "    original_feature_names = [\"EHR\",\"AgeCategory\",\"Gender\", \"Smoking_habits\", \"Stages\",\"Drug\",\"familyType\",\"CancerType\",\"Biomarker\",\"Relapse\"]\n",
    "    new_feature_names = [\"Patient_id\", 'Age', \"Gender\", \"Smoker\", \"Stage\", \"Treatment\", \"Family\", \"Cancer\", \"Mutation\", \"Relapse\"]\n",
    "    \n",
    "    df.rename(columns = dict(zip(original_feature_names, new_feature_names)), inplace = True)\n",
    "    \n",
    "    df.replace('\\s+','',regex=True,inplace=True) \n",
    "    for feature in new_feature_names:\n",
    "        if feature not in df.head().columns:\n",
    "            continue\n",
    "        df[feature] = df[feature].str.replace(\"http://clarify2020.eu/entity/\", '')\n",
    "    return df\n",
    "\n",
    "\n",
    "def standardize_df(df_in):\n",
    "    df = copy.deepcopy(df_in)\n",
    "    "
   ]
  },
  {
   "cell_type": "code",
   "execution_count": 82,
   "metadata": {},
   "outputs": [
    {
     "name": "stdout",
     "output_type": "stream",
     "text": [
      "Age \t ['OLDER', 'YOUNGER']\n",
      "Gender \t ['Female', 'Male']\n",
      "Stage \t ['Otros', 'IVB', 'IIA', 'IIB', 'IIIA', 'IIIC', 'IB', 'IVA', 'IA1', 'IA', 'I', 'Extendido', 'IA3', 'II', 'IIIB', 'Limitado', 'III', 'IV', 'IA2']\n",
      "Treatment \t ['Avelumab', 'Denosumab', 'Antiangiogenic_(blind_clinical_trial)', 'Ramucirumab', 'Mesna', 'Erlotinib', 'Durvalumab_(MEDI4736)', 'Xentuzumab', 'Veliparib_(ABT-_888)', 'Emactuzumab_(RG7155)', 'Onartuzumab_(MetMAb)', 'Nazartinib', 'Ipilimumab', 'Nivolumab', 'Nab-Paclitaxel', 'Galunisertib', 'Carboplatin', 'Rociletinib', 'Trabectedin', 'Ceritinib', '5-Fluorouracil', 'Crizotinib', 'Bevacizumab', 'Azacitidine', 'Pembrolizumab', 'Oxaliplatin', 'Ganetespib', 'Anetumab', 'Abemaciclib', 'Cisplatin', 'Onartuzumab_(MetMAb)_vs_Placebo', 'Lorlatinib', 'Vinorelbine', 'Canakinumab', 'Trametinib', 'Alisertib', 'AMG', 'Rovalpituzumab', 'Demcizumab', 'Bevacizumab_vs_Placebo', 'Vadimezan_(ASA404)_vs_Placebo', 'Cemiplimab', 'Afatinib', 'Dacomitinib', 'Octreotide', 'Tiragolumab', 'Bavituximab', 'Epacadostat', 'Entrectinib', 'Lanreotide', 'Everolimus', 'Cetuximab', 'Vandetanib', 'Pembrolizumab_vs_Placebo', 'Ifosfamide', 'Tipifarnib', 'Prexasertib_(LY2606368)', 'Etoposide_VP16', 'Nintedanib', 'Irinotecan', 'Brigatinib', 'Ciclofosfamide', 'Gemcitabine', 'Bemcentinib', 'Dostarlimab_(TSR_042)', 'UNK', 'Gefitinib', 'Vemurafenib', 'Dabrafenib', 'PM060184', 'Durvalumab_(MEDI4736)_vs_Placebo', 'Daratumumab', 'Doxorrubicine', 'Docetaxel', 'Alectinib', 'Pemetrexed', 'Temozolomide', 'Capmatinib', 'Seribantumab', 'Tiragolumab_vs_Placebo', 'Capecitabine', 'Custirsen_(OGX-_011)', 'Durvalumab', 'Emibetuzumab_(LY2875358)', 'Tremelimumab', 'Veliparib_(ABT-_888)_vs_Placebo', 'Lurbinectedin_(PM1183)', 'Olaparib', 'Paclitaxel', 'Topotecan', 'Tepotinib', 'Atezolizumab', 'Osimertinib', 'Paclitaxel_poliglumex_(CT-_2103)', 'Rovalpituzumab_vs_Placebo', 'Vincristinea', 'Selumetinib', 'Necitumumab']\n",
      "Family \t [nan, 'Aunt', 'Uncle', 'Nephew', 'Niece', 'Sister', 'Grandfather', 'Grandgrandmother', 'UNK', 'Grandgrandfather', 'Grandmother', 'Daughter', 'Son', 'Halfsister', 'Father', 'Female_Cousin', 'Halfbrother', 'Mother', 'Brother', 'Granddaughter', 'Male_Cousin']\n",
      "Cancer \t [nan, 'Melanoma', 'Unknown_origin_carcinoma', 'Prostate', 'UNK', 'Breast', 'Pancreatic', 'Colorrectal', 'Sarcoma', 'Leukemia', 'Other', 'Liver', 'Lung', 'Head_and_neck', 'Renal', 'Skin_no_melanoma', 'Bladder/urinary_tract', 'Gall_bladder', 'Ovarian', 'Esophagogastric', 'Germinal_tumors', 'Lymphoma', 'Central_nervous_system', 'Uterus/cervical']\n",
      "Mutation \t [nan, 'RET', 'KRAS', 'HER2', 'PDL1', 'EGFR', 'ALK', 'BRAF', 'HER2Mut', 'MET', 'ROS1', 'FGFR1']\n",
      "Relapse \t ['Relapse', 'Progression', 'No_progression']\n",
      "  Patient_id    Age  Gender Stage    Treatment  Family    Cancer Mutation  \\\n",
      "0    1006645  OLDER  Female  IIIB    Cisplatin  Father  Prostate  HER2Mut   \n",
      "1    1006645  OLDER  Female  IIIB  Vinorelbine  Father  Prostate  HER2Mut   \n",
      "2    1006645  OLDER  Female  IIIB          UNK  Father  Prostate  HER2Mut   \n",
      "3    1006645  OLDER  Female  IIIB    Cisplatin  Father  Prostate      MET   \n",
      "4    1006645  OLDER  Female  IIIB  Vinorelbine  Father  Prostate      MET   \n",
      "\n",
      "       Relapse  \n",
      "0  Progression  \n",
      "1  Progression  \n",
      "2  Progression  \n",
      "3  Progression  \n",
      "4  Progression  \n"
     ]
    }
   ],
   "source": [
    "import pandas as pd\n",
    "import matplotlib.pyplot as plt\n",
    "df = pd.read_csv(\"sparql.csv\")\n",
    "df = clean_df(df)\n",
    "\n",
    "for feature in df.head().columns:\n",
    "    if \"Patient\" in feature:\n",
    "        continue\n",
    "    print(feature, '\\t', list(set(df[feature].values)))\n",
    "\n",
    "print(df.head())\n",
    "# df = standardize_df(df)\n",
    "# print(\"dataset with cigarette\", len(df))\n"
   ]
  },
  {
   "cell_type": "markdown",
   "metadata": {},
   "source": [
    "# Hypothetical Directed Acyclic Graph"
   ]
  },
  {
   "cell_type": "code",
   "execution_count": 63,
   "metadata": {},
   "outputs": [
    {
     "data": {
      "image/svg+xml": "<?xml version=\"1.0\" encoding=\"UTF-8\" standalone=\"no\"?>\n<!DOCTYPE svg PUBLIC \"-//W3C//DTD SVG 1.1//EN\"\n \"http://www.w3.org/Graphics/SVG/1.1/DTD/svg11.dtd\">\n<!-- Generated by graphviz version 2.50.0 (0)\n -->\n<!-- Pages: 1 -->\n<svg width=\"277pt\" height=\"332pt\"\n viewBox=\"0.00 0.00 277.40 332.00\" xmlns=\"http://www.w3.org/2000/svg\" xmlns:xlink=\"http://www.w3.org/1999/xlink\">\n<g id=\"graph0\" class=\"graph\" transform=\"scale(1 1) rotate(0) translate(4 328)\">\n<polygon fill=\"white\" stroke=\"transparent\" points=\"-4,4 -4,-328 273.4,-328 273.4,4 -4,4\"/>\n<!-- Smoker -->\n<g id=\"node1\" class=\"node\">\n<title>Smoker</title>\n<ellipse fill=\"none\" stroke=\"black\" cx=\"93\" cy=\"-234\" rx=\"38.19\" ry=\"18\"/>\n<text text-anchor=\"middle\" x=\"93\" y=\"-230.3\" font-family=\"Times,serif\" font-size=\"14.00\">Smoker</text>\n</g>\n<!-- Mutation -->\n<g id=\"node4\" class=\"node\">\n<title>Mutation</title>\n<ellipse fill=\"none\" stroke=\"black\" cx=\"87\" cy=\"-162\" rx=\"43.59\" ry=\"18\"/>\n<text text-anchor=\"middle\" x=\"87\" y=\"-158.3\" font-family=\"Times,serif\" font-size=\"14.00\">Mutation</text>\n</g>\n<!-- Smoker&#45;&gt;Mutation -->\n<g id=\"edge1\" class=\"edge\">\n<title>Smoker&#45;&gt;Mutation</title>\n<path fill=\"none\" stroke=\"black\" d=\"M91.52,-215.7C90.86,-207.98 90.06,-198.71 89.32,-190.11\"/>\n<polygon fill=\"black\" stroke=\"black\" points=\"92.81,-189.77 88.47,-180.1 85.83,-190.37 92.81,-189.77\"/>\n</g>\n<!-- Gender -->\n<g id=\"node2\" class=\"node\">\n<title>Gender</title>\n<ellipse fill=\"none\" stroke=\"black\" cx=\"133\" cy=\"-306\" rx=\"36.29\" ry=\"18\"/>\n<text text-anchor=\"middle\" x=\"133\" y=\"-302.3\" font-family=\"Times,serif\" font-size=\"14.00\">Gender</text>\n</g>\n<!-- Gender&#45;&gt;Smoker -->\n<g id=\"edge5\" class=\"edge\">\n<title>Gender&#45;&gt;Smoker</title>\n<path fill=\"none\" stroke=\"black\" d=\"M123.52,-288.41C118.74,-280.04 112.83,-269.71 107.5,-260.37\"/>\n<polygon fill=\"black\" stroke=\"black\" points=\"110.41,-258.42 102.41,-251.47 104.33,-261.89 110.41,-258.42\"/>\n</g>\n<!-- Gender&#45;&gt;Mutation -->\n<g id=\"edge6\" class=\"edge\">\n<title>Gender&#45;&gt;Mutation</title>\n<path fill=\"none\" stroke=\"black\" d=\"M138.73,-288.21C144.05,-269.77 149.79,-239.63 140,-216 134.98,-203.88 125.7,-193.09 116.29,-184.46\"/>\n<polygon fill=\"black\" stroke=\"black\" points=\"118.32,-181.59 108.45,-177.74 113.76,-186.9 118.32,-181.59\"/>\n</g>\n<!-- Age -->\n<g id=\"node3\" class=\"node\">\n<title>Age</title>\n<ellipse fill=\"none\" stroke=\"black\" cx=\"27\" cy=\"-306\" rx=\"27\" ry=\"18\"/>\n<text text-anchor=\"middle\" x=\"27\" y=\"-302.3\" font-family=\"Times,serif\" font-size=\"14.00\">Age</text>\n</g>\n<!-- Age&#45;&gt;Smoker -->\n<g id=\"edge2\" class=\"edge\">\n<title>Age&#45;&gt;Smoker</title>\n<path fill=\"none\" stroke=\"black\" d=\"M41,-290.15C49.77,-280.85 61.25,-268.67 71.2,-258.12\"/>\n<polygon fill=\"black\" stroke=\"black\" points=\"73.79,-260.47 78.11,-250.8 68.7,-255.67 73.79,-260.47\"/>\n</g>\n<!-- Age&#45;&gt;Mutation -->\n<g id=\"edge3\" class=\"edge\">\n<title>Age&#45;&gt;Mutation</title>\n<path fill=\"none\" stroke=\"black\" d=\"M28.37,-287.89C30.36,-269.42 35.1,-239.5 46,-216 50.82,-205.6 58.01,-195.36 65.02,-186.69\"/>\n<polygon fill=\"black\" stroke=\"black\" points=\"67.82,-188.8 71.61,-178.91 62.47,-184.28 67.82,-188.8\"/>\n</g>\n<!-- Relapse -->\n<g id=\"node9\" class=\"node\">\n<title>Relapse</title>\n<ellipse fill=\"none\" stroke=\"black\" cx=\"141\" cy=\"-18\" rx=\"38.19\" ry=\"18\"/>\n<text text-anchor=\"middle\" x=\"141\" y=\"-14.3\" font-family=\"Times,serif\" font-size=\"14.00\">Relapse</text>\n</g>\n<!-- Age&#45;&gt;Relapse -->\n<g id=\"edge4\" class=\"edge\">\n<title>Age&#45;&gt;Relapse</title>\n<path fill=\"none\" stroke=\"black\" d=\"M23.21,-288.09C14.97,-246.78 -0.19,-139.15 48,-72 60.88,-54.05 81.86,-41.34 100.64,-32.87\"/>\n<polygon fill=\"black\" stroke=\"black\" points=\"102.07,-36.07 109.92,-28.94 99.34,-29.62 102.07,-36.07\"/>\n</g>\n<!-- Treatment -->\n<g id=\"node7\" class=\"node\">\n<title>Treatment</title>\n<ellipse fill=\"none\" stroke=\"black\" cx=\"104\" cy=\"-90\" rx=\"47.39\" ry=\"18\"/>\n<text text-anchor=\"middle\" x=\"104\" y=\"-86.3\" font-family=\"Times,serif\" font-size=\"14.00\">Treatment</text>\n</g>\n<!-- Mutation&#45;&gt;Treatment -->\n<g id=\"edge7\" class=\"edge\">\n<title>Mutation&#45;&gt;Treatment</title>\n<path fill=\"none\" stroke=\"black\" d=\"M91.12,-144.05C93.01,-136.26 95.3,-126.82 97.42,-118.08\"/>\n<polygon fill=\"black\" stroke=\"black\" points=\"100.85,-118.82 99.8,-108.28 94.04,-117.17 100.85,-118.82\"/>\n</g>\n<!-- Family -->\n<g id=\"node5\" class=\"node\">\n<title>Family</title>\n<ellipse fill=\"none\" stroke=\"black\" cx=\"233\" cy=\"-234\" rx=\"36.29\" ry=\"18\"/>\n<text text-anchor=\"middle\" x=\"233\" y=\"-230.3\" font-family=\"Times,serif\" font-size=\"14.00\">Family</text>\n</g>\n<!-- Family&#45;&gt;Mutation -->\n<g id=\"edge9\" class=\"edge\">\n<title>Family&#45;&gt;Mutation</title>\n<path fill=\"none\" stroke=\"black\" d=\"M207.57,-220.81C184.36,-209.68 149.78,-193.1 123.6,-180.55\"/>\n<polygon fill=\"black\" stroke=\"black\" points=\"124.9,-177.29 114.37,-176.12 121.87,-183.6 124.9,-177.29\"/>\n</g>\n<!-- Family&#45;&gt;Relapse -->\n<g id=\"edge10\" class=\"edge\">\n<title>Family&#45;&gt;Relapse</title>\n<path fill=\"none\" stroke=\"black\" d=\"M232.14,-215.82C230.8,-197.56 227.43,-168.06 219,-144 205.67,-105.94 179.18,-67.36 160.79,-43.32\"/>\n<polygon fill=\"black\" stroke=\"black\" points=\"163.33,-40.89 154.42,-35.16 157.81,-45.19 163.33,-40.89\"/>\n</g>\n<!-- Cancer -->\n<g id=\"node6\" class=\"node\">\n<title>Cancer</title>\n<ellipse fill=\"none\" stroke=\"black\" cx=\"223\" cy=\"-306\" rx=\"36\" ry=\"18\"/>\n<text text-anchor=\"middle\" x=\"223\" y=\"-302.3\" font-family=\"Times,serif\" font-size=\"14.00\">Cancer</text>\n</g>\n<!-- Treatment&#45;&gt;Relapse -->\n<g id=\"edge8\" class=\"edge\">\n<title>Treatment&#45;&gt;Relapse</title>\n<path fill=\"none\" stroke=\"black\" d=\"M112.96,-72.05C117.27,-63.89 122.55,-53.91 127.35,-44.82\"/>\n<polygon fill=\"black\" stroke=\"black\" points=\"130.55,-46.27 132.13,-35.79 124.36,-42.99 130.55,-46.27\"/>\n</g>\n<!-- Stage -->\n<g id=\"node8\" class=\"node\">\n<title>Stage</title>\n<ellipse fill=\"none\" stroke=\"black\" cx=\"179\" cy=\"-162\" rx=\"30.59\" ry=\"18\"/>\n<text text-anchor=\"middle\" x=\"179\" y=\"-158.3\" font-family=\"Times,serif\" font-size=\"14.00\">Stage</text>\n</g>\n<!-- Stage&#45;&gt;Treatment -->\n<g id=\"edge11\" class=\"edge\">\n<title>Stage&#45;&gt;Treatment</title>\n<path fill=\"none\" stroke=\"black\" d=\"M163.46,-146.5C153.42,-137.13 140.14,-124.73 128.67,-114.03\"/>\n<polygon fill=\"black\" stroke=\"black\" points=\"130.79,-111.21 121.09,-106.95 126.01,-116.33 130.79,-111.21\"/>\n</g>\n<!-- Stage&#45;&gt;Relapse -->\n<g id=\"edge12\" class=\"edge\">\n<title>Stage&#45;&gt;Relapse</title>\n<path fill=\"none\" stroke=\"black\" d=\"M176.03,-143.77C172.75,-125.72 167.01,-96.62 160,-72 157.53,-63.31 154.36,-53.99 151.33,-45.62\"/>\n<polygon fill=\"black\" stroke=\"black\" points=\"154.52,-44.15 147.75,-36 147.96,-46.59 154.52,-44.15\"/>\n</g>\n</g>\n</svg>\n",
      "text/plain": [
       "<graphviz.graphs.Digraph at 0x7fe269b459a0>"
      ]
     },
     "execution_count": 63,
     "metadata": {},
     "output_type": "execute_result"
    }
   ],
   "source": [
    "from graphviz import Digraph\n",
    "# Create Digraph object\n",
    "dot = Digraph()\n",
    "\n",
    "# Nodes\n",
    "dot.node('Smoker')\n",
    "dot.node('Gender')\n",
    "dot.node('Age')\n",
    "dot.node('Mutation')\n",
    "dot.node('Family')\n",
    "dot.node('Cancer')\n",
    "dot.node('Treatment')\n",
    "dot.node('Stage')\n",
    "dot.node('Relapse')\n",
    "\n",
    "# Edges\n",
    "lung_cancer_edges = [('Smoker', 'Mutation'), \n",
    "('Age', 'Smoker'), ('Age', 'Mutation'), ('Age', 'Relapse'),\n",
    "('Gender', 'Smoker'), ('Gender', 'Mutation'),\n",
    "('Mutation', 'Treatment'),\n",
    "('Treatment', 'Relapse'),\n",
    "('Family', 'Mutation'), ('Family', 'Relapse'),\n",
    "('Stage', 'Treatment'), ('Stage', 'Relapse')]\n",
    "\n",
    "for head, tail in lung_cancer_edges:\n",
    "    dot.edge(head, tail)\n",
    "\n",
    "# dot.edge('Cancer', )\n",
    "\n",
    "dot\n"
   ]
  },
  {
   "cell_type": "markdown",
   "metadata": {},
   "source": [
    "# Structure Learning or Definition"
   ]
  },
  {
   "cell_type": "code",
   "execution_count": 31,
   "metadata": {},
   "outputs": [],
   "source": [
    "import bnlearn as bn\n",
    "\n",
    "from itertools import combinations\n",
    "\n",
    "import networkx as nx\n",
    "from sklearn.metrics import f1_score\n",
    "\n",
    "from pgmpy.estimators import PC, HillClimbSearch, ExhaustiveSearch\n",
    "from pgmpy.estimators import K2Score\n",
    "from pgmpy.utils import get_example_model\n",
    "from pgmpy.sampling import BayesianModelSampling\n",
    "\n",
    "import networkx as nx\n",
    "import numpy as np\n",
    "import matplotlib.pyplot as plt\n",
    "\n",
    "\n",
    "import bnlearn as bn\n",
    "\n",
    "def structure_learn_by_HC_search(data):\n",
    "    \n",
    "    # Structure learning\n",
    "    model = bn.structure_learning.fit(data, methodtype='hc', scoretype='bdeu')\n",
    "    \n",
    "    # print(model['model_edges'])\n",
    "    # print(model['config'])\n",
    "    # print(model['adjmat'])\n",
    "    \n",
    "    # Compute edge strength using chi-square independence test\n",
    "    model = bn.independence_test(model, data, alpha=0.05, prune=True)\n",
    "    G = bn.plot(model)\n",
    "    return model['model_edges']\n",
    "\n",
    "\n",
    "def structure_learn_by_Constriant_search(data):\n",
    "    # Structure learning\n",
    "    model = bn.structure_learning.fit(data, methodtype='cs')    # 'cs':'constraintsearch' with score\n",
    "    model = bn.independence_test(model, data, alpha=0.05)   # prune=true\n",
    "    G = bn.plot(model)\n",
    "    # print(model['independence_test'])\n",
    "    return model['model_edges']\n",
    "\n",
    "def casual_discovery_PC(data):\n",
    "    from causallearn.search.ConstraintBased.PC import pc\n",
    "    from causallearn.utils.cit import chisq, fisherz\n",
    "    print(data.head().columns)\n",
    "    # PC algorithm\n",
    "    cg = pc(data.to_numpy(), alpha = 0.05, indep_test=fisherz, stable=True, uc_rule=0, uc_priority=1)\n",
    "\n",
    "    edges = cg.G.get_graph_edges()\n",
    "    X_nodes = cg.G.get_nodes()\n",
    "    # print(cg.G.graph)\n",
    "    nodes = data.head().columns\n",
    "    for edge in edges:\n",
    "        # print(edge.get_endpoint1())\n",
    "        # print(edge.get_endpoint2())\n",
    "        src_node = X_nodes.index(edge.get_node1())\n",
    "        tar_node = X_nodes.index(edge.get_node2())\n",
    "        print(edge.get_node1(), '-->', edge.get_node2(),'\\t', nodes[src_node], '-->', nodes[tar_node])\n",
    "\n",
    "    # visualization using pydot\n",
    "    cg.draw_pydot_graph()\n",
    "\n",
    "def hybrid_structure_learning(data):\n",
    "    from pgmpy.estimators import MmhcEstimator\n",
    "    from pgmpy.estimators import BDeuScore\n",
    "    from pgmpy.estimators import HillClimbSearch\n",
    "\n",
    "    mmhc = MmhcEstimator(data)\n",
    "    skeleton = mmhc.mmpc(significance_level=0.05)\n",
    "    print(\"Part 1) Skeleton: \", skeleton.edges())\n",
    "    \n",
    "    # use hill climb search to orient the edges:\n",
    "    hc = HillClimbSearch(data)\n",
    "    model = hc.estimate(scoring_method=BDeuScore(data), tabu_length=10, white_list=skeleton.to_directed().edges())\n",
    "    print(\"Part 2) Model:    \", model.edges())\n",
    "    model\n",
    "\n",
    "def structure_defined():\n",
    "    return lung_cancer_edges\n",
    "\n",
    "\n",
    "# df = bn.import_example('asia')\n",
    "# df = df[['xray', 'lung', 'smoke', 'bronc']]\n",
    "# edges = structure_learn_by_HC(df)\n",
    "# edges = structure_learn_by_Constriant_Based(df)"
   ]
  },
  {
   "cell_type": "code",
   "execution_count": 32,
   "metadata": {},
   "outputs": [
    {
     "name": "stdout",
     "output_type": "stream",
     "text": [
      "{'OLDER': 0, 'YOUNGER': 1}\n",
      "{'Male': 0, 'Female': 1}\n",
      "{'IIIC': 0, 'IIIA': 1, 'IA': 2, 'I': 3, 'III': 4, 'IB': 5, 'IV': 6, 'IIIB': 7, 'IVB': 8, 'IA3': 9, 'UNK': 10, 'IVA': 11, 'IA1': 12, 'IA2': 13, 'II': 14, 'IIA': 15, 'IIB': 16}\n",
      "{'Man': 0, 'No': 1, 'ManAndWoman': 2, 'Woman': 3}\n",
      "{'BothCancer': 0, 'MajorCancer': 1, 'No': 2, 'MinorCancer': 3}\n",
      "{'PreviousSmoker': 0, 'NonSmoker': 1, 'CurrentSmoker': 2}\n",
      "{'Other': 0, 'ALKorEGFR': 1, 'No': 2}\n",
      "{'No_progression': 0, 'Relapse': 1, 'Progression': 2}\n",
      "{'3+': 0, '0': 1, '1': 2, '2': 3}\n",
      "[bnlearn] >Computing best DAG using [ex]\n",
      "[bnlearn] >Set scoring type at [bic]\n"
     ]
    },
    {
     "ename": "KeyboardInterrupt",
     "evalue": "",
     "output_type": "error",
     "traceback": [
      "\u001b[0;31m---------------------------------------------------------------------------\u001b[0m",
      "\u001b[0;31mKeyboardInterrupt\u001b[0m                         Traceback (most recent call last)",
      "\u001b[1;32m/Users/jason/Documents/Coding/BayesianNet_Lung/Inference_in_Lung_Cancer_pgmpy.ipynb Cell 8'\u001b[0m in \u001b[0;36m<cell line: 14>\u001b[0;34m()\u001b[0m\n\u001b[1;32m     <a href='vscode-notebook-cell:/Users/jason/Documents/Coding/BayesianNet_Lung/Inference_in_Lung_Cancer_pgmpy.ipynb#ch0000028?line=10'>11</a>\u001b[0m df \u001b[39m=\u001b[39m digitalize(df)\n\u001b[1;32m     <a href='vscode-notebook-cell:/Users/jason/Documents/Coding/BayesianNet_Lung/Inference_in_Lung_Cancer_pgmpy.ipynb#ch0000028?line=11'>12</a>\u001b[0m df\u001b[39m.\u001b[39mdrop(columns\u001b[39m=\u001b[39m[\u001b[39m'\u001b[39m\u001b[39mRelapse\u001b[39m\u001b[39m'\u001b[39m], inplace\u001b[39m=\u001b[39m\u001b[39mTrue\u001b[39;00m)\n\u001b[0;32m---> <a href='vscode-notebook-cell:/Users/jason/Documents/Coding/BayesianNet_Lung/Inference_in_Lung_Cancer_pgmpy.ipynb#ch0000028?line=13'>14</a>\u001b[0m structure_learn_by_Constriant_search(df)\n",
      "\u001b[1;32m/Users/jason/Documents/Coding/BayesianNet_Lung/Inference_in_Lung_Cancer_pgmpy.ipynb Cell 7'\u001b[0m in \u001b[0;36mstructure_learn_by_Constriant_search\u001b[0;34m(data)\u001b[0m\n\u001b[1;32m     <a href='vscode-notebook-cell:/Users/jason/Documents/Coding/BayesianNet_Lung/Inference_in_Lung_Cancer_pgmpy.ipynb#ch0000006?line=34'>35</a>\u001b[0m \u001b[39mdef\u001b[39;00m \u001b[39mstructure_learn_by_Constriant_search\u001b[39m(data):\n\u001b[1;32m     <a href='vscode-notebook-cell:/Users/jason/Documents/Coding/BayesianNet_Lung/Inference_in_Lung_Cancer_pgmpy.ipynb#ch0000006?line=35'>36</a>\u001b[0m     \u001b[39m# Structure learning\u001b[39;00m\n\u001b[0;32m---> <a href='vscode-notebook-cell:/Users/jason/Documents/Coding/BayesianNet_Lung/Inference_in_Lung_Cancer_pgmpy.ipynb#ch0000006?line=36'>37</a>\u001b[0m     model \u001b[39m=\u001b[39m bn\u001b[39m.\u001b[39;49mstructure_learning\u001b[39m.\u001b[39;49mfit(data, methodtype\u001b[39m=\u001b[39;49m\u001b[39m'\u001b[39;49m\u001b[39mex\u001b[39;49m\u001b[39m'\u001b[39;49m)    \u001b[39m# 'cs':'constraintsearch' with score\u001b[39;00m\n\u001b[1;32m     <a href='vscode-notebook-cell:/Users/jason/Documents/Coding/BayesianNet_Lung/Inference_in_Lung_Cancer_pgmpy.ipynb#ch0000006?line=37'>38</a>\u001b[0m     model \u001b[39m=\u001b[39m bn\u001b[39m.\u001b[39mindependence_test(model, data, alpha\u001b[39m=\u001b[39m\u001b[39m0.05\u001b[39m)   \u001b[39m# prune=true\u001b[39;00m\n\u001b[1;32m     <a href='vscode-notebook-cell:/Users/jason/Documents/Coding/BayesianNet_Lung/Inference_in_Lung_Cancer_pgmpy.ipynb#ch0000006?line=38'>39</a>\u001b[0m     G \u001b[39m=\u001b[39m bn\u001b[39m.\u001b[39mplot(model)\n",
      "File \u001b[0;32m~/opt/anaconda3/envs/pytorch38/lib/python3.8/site-packages/bnlearn/structure_learning.py:153\u001b[0m, in \u001b[0;36mfit\u001b[0;34m(df, methodtype, scoretype, black_list, white_list, bw_list_method, max_indegree, tabu_length, epsilon, max_iter, root_node, class_node, fixed_edges, return_all_dags, verbose)\u001b[0m\n\u001b[1;32m    <a href='file:///Users/jason/opt/anaconda3/envs/pytorch38/lib/python3.8/site-packages/bnlearn/structure_learning.py?line=150'>151</a>\u001b[0m \u001b[39m# ExhaustiveSearch can be used to compute the score for every DAG and returns the best-scoring one:\u001b[39;00m\n\u001b[1;32m    <a href='file:///Users/jason/opt/anaconda3/envs/pytorch38/lib/python3.8/site-packages/bnlearn/structure_learning.py?line=151'>152</a>\u001b[0m \u001b[39mif\u001b[39;00m config[\u001b[39m'\u001b[39m\u001b[39mmethod\u001b[39m\u001b[39m'\u001b[39m]\u001b[39m==\u001b[39m\u001b[39m'\u001b[39m\u001b[39mex\u001b[39m\u001b[39m'\u001b[39m \u001b[39mor\u001b[39;00m config[\u001b[39m'\u001b[39m\u001b[39mmethod\u001b[39m\u001b[39m'\u001b[39m]\u001b[39m==\u001b[39m\u001b[39m'\u001b[39m\u001b[39mexhaustivesearch\u001b[39m\u001b[39m'\u001b[39m:\n\u001b[0;32m--> <a href='file:///Users/jason/opt/anaconda3/envs/pytorch38/lib/python3.8/site-packages/bnlearn/structure_learning.py?line=152'>153</a>\u001b[0m     out \u001b[39m=\u001b[39m _exhaustivesearch(df,\n\u001b[1;32m    <a href='file:///Users/jason/opt/anaconda3/envs/pytorch38/lib/python3.8/site-packages/bnlearn/structure_learning.py?line=153'>154</a>\u001b[0m                             scoretype\u001b[39m=\u001b[39;49mconfig[\u001b[39m'\u001b[39;49m\u001b[39mscoring\u001b[39;49m\u001b[39m'\u001b[39;49m],\n\u001b[1;32m    <a href='file:///Users/jason/opt/anaconda3/envs/pytorch38/lib/python3.8/site-packages/bnlearn/structure_learning.py?line=154'>155</a>\u001b[0m                             return_all_dags\u001b[39m=\u001b[39;49mconfig[\u001b[39m'\u001b[39;49m\u001b[39mreturn_all_dags\u001b[39;49m\u001b[39m'\u001b[39;49m],\n\u001b[1;32m    <a href='file:///Users/jason/opt/anaconda3/envs/pytorch38/lib/python3.8/site-packages/bnlearn/structure_learning.py?line=155'>156</a>\u001b[0m                             verbose\u001b[39m=\u001b[39;49mconfig[\u001b[39m'\u001b[39;49m\u001b[39mverbose\u001b[39;49m\u001b[39m'\u001b[39;49m])\n\u001b[1;32m    <a href='file:///Users/jason/opt/anaconda3/envs/pytorch38/lib/python3.8/site-packages/bnlearn/structure_learning.py?line=157'>158</a>\u001b[0m \u001b[39m# HillClimbSearch\u001b[39;00m\n\u001b[1;32m    <a href='file:///Users/jason/opt/anaconda3/envs/pytorch38/lib/python3.8/site-packages/bnlearn/structure_learning.py?line=158'>159</a>\u001b[0m \u001b[39mif\u001b[39;00m config[\u001b[39m'\u001b[39m\u001b[39mmethod\u001b[39m\u001b[39m'\u001b[39m]\u001b[39m==\u001b[39m\u001b[39m'\u001b[39m\u001b[39mhc\u001b[39m\u001b[39m'\u001b[39m \u001b[39mor\u001b[39;00m config[\u001b[39m'\u001b[39m\u001b[39mmethod\u001b[39m\u001b[39m'\u001b[39m]\u001b[39m==\u001b[39m\u001b[39m'\u001b[39m\u001b[39mhillclimbsearch\u001b[39m\u001b[39m'\u001b[39m:\n",
      "File \u001b[0;32m~/opt/anaconda3/envs/pytorch38/lib/python3.8/site-packages/bnlearn/structure_learning.py:487\u001b[0m, in \u001b[0;36m_exhaustivesearch\u001b[0;34m(df, scoretype, return_all_dags, verbose)\u001b[0m\n\u001b[1;32m    <a href='file:///Users/jason/opt/anaconda3/envs/pytorch38/lib/python3.8/site-packages/bnlearn/structure_learning.py?line=484'>485</a>\u001b[0m model \u001b[39m=\u001b[39m ExhaustiveSearch(df, scoring_method\u001b[39m=\u001b[39mscoring_method)\n\u001b[1;32m    <a href='file:///Users/jason/opt/anaconda3/envs/pytorch38/lib/python3.8/site-packages/bnlearn/structure_learning.py?line=485'>486</a>\u001b[0m \u001b[39m# Compute best DAG\u001b[39;00m\n\u001b[0;32m--> <a href='file:///Users/jason/opt/anaconda3/envs/pytorch38/lib/python3.8/site-packages/bnlearn/structure_learning.py?line=486'>487</a>\u001b[0m best_model \u001b[39m=\u001b[39m model\u001b[39m.\u001b[39;49mestimate()\n\u001b[1;32m    <a href='file:///Users/jason/opt/anaconda3/envs/pytorch38/lib/python3.8/site-packages/bnlearn/structure_learning.py?line=487'>488</a>\u001b[0m \u001b[39m# Store\u001b[39;00m\n\u001b[1;32m    <a href='file:///Users/jason/opt/anaconda3/envs/pytorch38/lib/python3.8/site-packages/bnlearn/structure_learning.py?line=488'>489</a>\u001b[0m out[\u001b[39m'\u001b[39m\u001b[39mmodel\u001b[39m\u001b[39m'\u001b[39m]\u001b[39m=\u001b[39mbest_model\n",
      "File \u001b[0;32m~/opt/anaconda3/envs/pytorch38/lib/python3.8/site-packages/pgmpy/estimators/ExhaustiveSearch.py:193\u001b[0m, in \u001b[0;36mExhaustiveSearch.estimate\u001b[0;34m(self)\u001b[0m\n\u001b[1;32m    <a href='file:///Users/jason/opt/anaconda3/envs/pytorch38/lib/python3.8/site-packages/pgmpy/estimators/ExhaustiveSearch.py?line=165'>166</a>\u001b[0m \u001b[39mdef\u001b[39;00m \u001b[39mestimate\u001b[39m(\u001b[39mself\u001b[39m):\n\u001b[1;32m    <a href='file:///Users/jason/opt/anaconda3/envs/pytorch38/lib/python3.8/site-packages/pgmpy/estimators/ExhaustiveSearch.py?line=166'>167</a>\u001b[0m     \u001b[39m\"\"\"\u001b[39;00m\n\u001b[1;32m    <a href='file:///Users/jason/opt/anaconda3/envs/pytorch38/lib/python3.8/site-packages/pgmpy/estimators/ExhaustiveSearch.py?line=167'>168</a>\u001b[0m \u001b[39m    Estimates the `DAG` structure that fits best to the given data set,\u001b[39;00m\n\u001b[1;32m    <a href='file:///Users/jason/opt/anaconda3/envs/pytorch38/lib/python3.8/site-packages/pgmpy/estimators/ExhaustiveSearch.py?line=168'>169</a>\u001b[0m \u001b[39m    according to the scoring method supplied in the constructor.\u001b[39;00m\n\u001b[0;32m   (...)\u001b[0m\n\u001b[1;32m    <a href='file:///Users/jason/opt/anaconda3/envs/pytorch38/lib/python3.8/site-packages/pgmpy/estimators/ExhaustiveSearch.py?line=189'>190</a>\u001b[0m \u001b[39m    [('B', 'C')]\u001b[39;00m\n\u001b[1;32m    <a href='file:///Users/jason/opt/anaconda3/envs/pytorch38/lib/python3.8/site-packages/pgmpy/estimators/ExhaustiveSearch.py?line=190'>191</a>\u001b[0m \u001b[39m    \"\"\"\u001b[39;00m\n\u001b[0;32m--> <a href='file:///Users/jason/opt/anaconda3/envs/pytorch38/lib/python3.8/site-packages/pgmpy/estimators/ExhaustiveSearch.py?line=192'>193</a>\u001b[0m     best_dag \u001b[39m=\u001b[39m \u001b[39mmax\u001b[39;49m(\u001b[39mself\u001b[39;49m\u001b[39m.\u001b[39;49mall_dags(), key\u001b[39m=\u001b[39;49m\u001b[39mself\u001b[39;49m\u001b[39m.\u001b[39;49mscoring_method\u001b[39m.\u001b[39;49mscore)\n\u001b[1;32m    <a href='file:///Users/jason/opt/anaconda3/envs/pytorch38/lib/python3.8/site-packages/pgmpy/estimators/ExhaustiveSearch.py?line=194'>195</a>\u001b[0m     best_model \u001b[39m=\u001b[39m DAG()\n\u001b[1;32m    <a href='file:///Users/jason/opt/anaconda3/envs/pytorch38/lib/python3.8/site-packages/pgmpy/estimators/ExhaustiveSearch.py?line=195'>196</a>\u001b[0m     best_model\u001b[39m.\u001b[39madd_nodes_from(\u001b[39msorted\u001b[39m(best_dag\u001b[39m.\u001b[39mnodes()))\n",
      "File \u001b[0;32m~/opt/anaconda3/envs/pytorch38/lib/python3.8/site-packages/pgmpy/estimators/ExhaustiveSearch.py:109\u001b[0m, in \u001b[0;36mExhaustiveSearch.all_dags\u001b[0;34m(self, nodes)\u001b[0m\n\u001b[1;32m    <a href='file:///Users/jason/opt/anaconda3/envs/pytorch38/lib/python3.8/site-packages/pgmpy/estimators/ExhaustiveSearch.py?line=106'>107</a>\u001b[0m graph \u001b[39m=\u001b[39m nx\u001b[39m.\u001b[39mDiGraph(graph_edges)\n\u001b[1;32m    <a href='file:///Users/jason/opt/anaconda3/envs/pytorch38/lib/python3.8/site-packages/pgmpy/estimators/ExhaustiveSearch.py?line=107'>108</a>\u001b[0m graph\u001b[39m.\u001b[39madd_nodes_from(nodes)\n\u001b[0;32m--> <a href='file:///Users/jason/opt/anaconda3/envs/pytorch38/lib/python3.8/site-packages/pgmpy/estimators/ExhaustiveSearch.py?line=108'>109</a>\u001b[0m \u001b[39mif\u001b[39;00m nx\u001b[39m.\u001b[39;49mis_directed_acyclic_graph(graph):\n\u001b[1;32m    <a href='file:///Users/jason/opt/anaconda3/envs/pytorch38/lib/python3.8/site-packages/pgmpy/estimators/ExhaustiveSearch.py?line=109'>110</a>\u001b[0m     \u001b[39myield\u001b[39;00m graph\n",
      "File \u001b[0;32m~/opt/anaconda3/envs/pytorch38/lib/python3.8/site-packages/networkx/algorithms/dag.py:102\u001b[0m, in \u001b[0;36mis_directed_acyclic_graph\u001b[0;34m(G)\u001b[0m\n\u001b[1;32m     <a href='file:///Users/jason/opt/anaconda3/envs/pytorch38/lib/python3.8/site-packages/networkx/algorithms/dag.py?line=88'>89</a>\u001b[0m \u001b[39mdef\u001b[39;00m \u001b[39mis_directed_acyclic_graph\u001b[39m(G):\n\u001b[1;32m     <a href='file:///Users/jason/opt/anaconda3/envs/pytorch38/lib/python3.8/site-packages/networkx/algorithms/dag.py?line=89'>90</a>\u001b[0m     \u001b[39m\"\"\"Returns True if the graph `G` is a directed acyclic graph (DAG) or\u001b[39;00m\n\u001b[1;32m     <a href='file:///Users/jason/opt/anaconda3/envs/pytorch38/lib/python3.8/site-packages/networkx/algorithms/dag.py?line=90'>91</a>\u001b[0m \u001b[39m    False if not.\u001b[39;00m\n\u001b[1;32m     <a href='file:///Users/jason/opt/anaconda3/envs/pytorch38/lib/python3.8/site-packages/networkx/algorithms/dag.py?line=91'>92</a>\u001b[0m \n\u001b[0;32m   (...)\u001b[0m\n\u001b[1;32m    <a href='file:///Users/jason/opt/anaconda3/envs/pytorch38/lib/python3.8/site-packages/networkx/algorithms/dag.py?line=99'>100</a>\u001b[0m \u001b[39m        True if `G` is a DAG, False otherwise\u001b[39;00m\n\u001b[1;32m    <a href='file:///Users/jason/opt/anaconda3/envs/pytorch38/lib/python3.8/site-packages/networkx/algorithms/dag.py?line=100'>101</a>\u001b[0m \u001b[39m    \"\"\"\u001b[39;00m\n\u001b[0;32m--> <a href='file:///Users/jason/opt/anaconda3/envs/pytorch38/lib/python3.8/site-packages/networkx/algorithms/dag.py?line=101'>102</a>\u001b[0m     \u001b[39mreturn\u001b[39;00m G\u001b[39m.\u001b[39mis_directed() \u001b[39mand\u001b[39;00m \u001b[39mnot\u001b[39;00m has_cycle(G)\n",
      "File \u001b[0;32m~/opt/anaconda3/envs/pytorch38/lib/python3.8/site-packages/networkx/algorithms/dag.py:82\u001b[0m, in \u001b[0;36mhas_cycle\u001b[0;34m(G)\u001b[0m\n\u001b[1;32m     <a href='file:///Users/jason/opt/anaconda3/envs/pytorch38/lib/python3.8/site-packages/networkx/algorithms/dag.py?line=78'>79</a>\u001b[0m \u001b[39m\"\"\"Decides whether the directed graph has a cycle.\"\"\"\u001b[39;00m\n\u001b[1;32m     <a href='file:///Users/jason/opt/anaconda3/envs/pytorch38/lib/python3.8/site-packages/networkx/algorithms/dag.py?line=79'>80</a>\u001b[0m \u001b[39mtry\u001b[39;00m:\n\u001b[1;32m     <a href='file:///Users/jason/opt/anaconda3/envs/pytorch38/lib/python3.8/site-packages/networkx/algorithms/dag.py?line=80'>81</a>\u001b[0m     \u001b[39m# Feed the entire iterator into a zero-length deque.\u001b[39;00m\n\u001b[0;32m---> <a href='file:///Users/jason/opt/anaconda3/envs/pytorch38/lib/python3.8/site-packages/networkx/algorithms/dag.py?line=81'>82</a>\u001b[0m     deque(topological_sort(G), maxlen\u001b[39m=\u001b[39;49m\u001b[39m0\u001b[39;49m)\n\u001b[1;32m     <a href='file:///Users/jason/opt/anaconda3/envs/pytorch38/lib/python3.8/site-packages/networkx/algorithms/dag.py?line=82'>83</a>\u001b[0m \u001b[39mexcept\u001b[39;00m nx\u001b[39m.\u001b[39mNetworkXUnfeasible:\n\u001b[1;32m     <a href='file:///Users/jason/opt/anaconda3/envs/pytorch38/lib/python3.8/site-packages/networkx/algorithms/dag.py?line=83'>84</a>\u001b[0m     \u001b[39mreturn\u001b[39;00m \u001b[39mTrue\u001b[39;00m\n",
      "File \u001b[0;32m~/opt/anaconda3/envs/pytorch38/lib/python3.8/site-packages/networkx/algorithms/dag.py:246\u001b[0m, in \u001b[0;36mtopological_sort\u001b[0;34m(G)\u001b[0m\n\u001b[1;32m    <a href='file:///Users/jason/opt/anaconda3/envs/pytorch38/lib/python3.8/site-packages/networkx/algorithms/dag.py?line=181'>182</a>\u001b[0m \u001b[39mdef\u001b[39;00m \u001b[39mtopological_sort\u001b[39m(G):\n\u001b[1;32m    <a href='file:///Users/jason/opt/anaconda3/envs/pytorch38/lib/python3.8/site-packages/networkx/algorithms/dag.py?line=182'>183</a>\u001b[0m     \u001b[39m\"\"\"Returns a generator of nodes in topologically sorted order.\u001b[39;00m\n\u001b[1;32m    <a href='file:///Users/jason/opt/anaconda3/envs/pytorch38/lib/python3.8/site-packages/networkx/algorithms/dag.py?line=183'>184</a>\u001b[0m \n\u001b[1;32m    <a href='file:///Users/jason/opt/anaconda3/envs/pytorch38/lib/python3.8/site-packages/networkx/algorithms/dag.py?line=184'>185</a>\u001b[0m \u001b[39m    A topological sort is a nonunique permutation of the nodes of a\u001b[39;00m\n\u001b[0;32m   (...)\u001b[0m\n\u001b[1;32m    <a href='file:///Users/jason/opt/anaconda3/envs/pytorch38/lib/python3.8/site-packages/networkx/algorithms/dag.py?line=243'>244</a>\u001b[0m \u001b[39m       *Introduction to Algorithms - A Creative Approach.* Addison-Wesley.\u001b[39;00m\n\u001b[1;32m    <a href='file:///Users/jason/opt/anaconda3/envs/pytorch38/lib/python3.8/site-packages/networkx/algorithms/dag.py?line=244'>245</a>\u001b[0m \u001b[39m    \"\"\"\u001b[39;00m\n\u001b[0;32m--> <a href='file:///Users/jason/opt/anaconda3/envs/pytorch38/lib/python3.8/site-packages/networkx/algorithms/dag.py?line=245'>246</a>\u001b[0m     \u001b[39mfor\u001b[39;00m generation \u001b[39min\u001b[39;00m nx\u001b[39m.\u001b[39mtopological_generations(G):\n\u001b[1;32m    <a href='file:///Users/jason/opt/anaconda3/envs/pytorch38/lib/python3.8/site-packages/networkx/algorithms/dag.py?line=246'>247</a>\u001b[0m         \u001b[39myield from\u001b[39;00m generation\n",
      "File \u001b[0;32m~/opt/anaconda3/envs/pytorch38/lib/python3.8/site-packages/networkx/algorithms/dag.py:164\u001b[0m, in \u001b[0;36mtopological_generations\u001b[0;34m(G)\u001b[0m\n\u001b[1;32m    <a href='file:///Users/jason/opt/anaconda3/envs/pytorch38/lib/python3.8/site-packages/networkx/algorithms/dag.py?line=161'>162</a>\u001b[0m zero_indegree \u001b[39m=\u001b[39m []\n\u001b[1;32m    <a href='file:///Users/jason/opt/anaconda3/envs/pytorch38/lib/python3.8/site-packages/networkx/algorithms/dag.py?line=162'>163</a>\u001b[0m \u001b[39mfor\u001b[39;00m node \u001b[39min\u001b[39;00m this_generation:\n\u001b[0;32m--> <a href='file:///Users/jason/opt/anaconda3/envs/pytorch38/lib/python3.8/site-packages/networkx/algorithms/dag.py?line=163'>164</a>\u001b[0m     \u001b[39mif\u001b[39;00m node \u001b[39mnot\u001b[39;49;00m \u001b[39min\u001b[39;49;00m G:\n\u001b[1;32m    <a href='file:///Users/jason/opt/anaconda3/envs/pytorch38/lib/python3.8/site-packages/networkx/algorithms/dag.py?line=164'>165</a>\u001b[0m         \u001b[39mraise\u001b[39;00m \u001b[39mRuntimeError\u001b[39;00m(\u001b[39m\"\u001b[39m\u001b[39mGraph changed during iteration\u001b[39m\u001b[39m\"\u001b[39m)\n\u001b[1;32m    <a href='file:///Users/jason/opt/anaconda3/envs/pytorch38/lib/python3.8/site-packages/networkx/algorithms/dag.py?line=165'>166</a>\u001b[0m     \u001b[39mfor\u001b[39;00m child \u001b[39min\u001b[39;00m G\u001b[39m.\u001b[39mneighbors(node):\n",
      "File \u001b[0;32m~/opt/anaconda3/envs/pytorch38/lib/python3.8/site-packages/networkx/classes/graph.py:426\u001b[0m, in \u001b[0;36mGraph.__contains__\u001b[0;34m(self, n)\u001b[0m\n\u001b[1;32m    <a href='file:///Users/jason/opt/anaconda3/envs/pytorch38/lib/python3.8/site-packages/networkx/classes/graph.py?line=416'>417</a>\u001b[0m \u001b[39m\"\"\"Returns True if n is a node, False otherwise. Use: 'n in G'.\u001b[39;00m\n\u001b[1;32m    <a href='file:///Users/jason/opt/anaconda3/envs/pytorch38/lib/python3.8/site-packages/networkx/classes/graph.py?line=417'>418</a>\u001b[0m \n\u001b[1;32m    <a href='file:///Users/jason/opt/anaconda3/envs/pytorch38/lib/python3.8/site-packages/networkx/classes/graph.py?line=418'>419</a>\u001b[0m \u001b[39mExamples\u001b[39;00m\n\u001b[0;32m   (...)\u001b[0m\n\u001b[1;32m    <a href='file:///Users/jason/opt/anaconda3/envs/pytorch38/lib/python3.8/site-packages/networkx/classes/graph.py?line=422'>423</a>\u001b[0m \u001b[39mTrue\u001b[39;00m\n\u001b[1;32m    <a href='file:///Users/jason/opt/anaconda3/envs/pytorch38/lib/python3.8/site-packages/networkx/classes/graph.py?line=423'>424</a>\u001b[0m \u001b[39m\"\"\"\u001b[39;00m\n\u001b[1;32m    <a href='file:///Users/jason/opt/anaconda3/envs/pytorch38/lib/python3.8/site-packages/networkx/classes/graph.py?line=424'>425</a>\u001b[0m \u001b[39mtry\u001b[39;00m:\n\u001b[0;32m--> <a href='file:///Users/jason/opt/anaconda3/envs/pytorch38/lib/python3.8/site-packages/networkx/classes/graph.py?line=425'>426</a>\u001b[0m     \u001b[39mreturn\u001b[39;00m n \u001b[39min\u001b[39;49;00m \u001b[39mself\u001b[39;49m\u001b[39m.\u001b[39;49m_node\n\u001b[1;32m    <a href='file:///Users/jason/opt/anaconda3/envs/pytorch38/lib/python3.8/site-packages/networkx/classes/graph.py?line=426'>427</a>\u001b[0m \u001b[39mexcept\u001b[39;00m \u001b[39mTypeError\u001b[39;00m:\n\u001b[1;32m    <a href='file:///Users/jason/opt/anaconda3/envs/pytorch38/lib/python3.8/site-packages/networkx/classes/graph.py?line=427'>428</a>\u001b[0m     \u001b[39mreturn\u001b[39;00m \u001b[39mFalse\u001b[39;00m\n",
      "\u001b[0;31mKeyboardInterrupt\u001b[0m: "
     ]
    }
   ],
   "source": [
    "import pandas as pd\n",
    "\n",
    "def digitalize(df):\n",
    "    for col in df.columns:\n",
    "        replace_dict = {val:i for i, val in enumerate(set(df[col].values))}\n",
    "        print(replace_dict)\n",
    "        df[col].replace(to_replace=replace_dict, inplace=True)\n",
    "    return df\n",
    "\n",
    "df = pd.read_csv('no_treatment3.csv')\n",
    "df = digitalize(df)\n",
    "df.drop(columns=['Relapse'], inplace=True)\n",
    "\n",
    "structure_learn_by_Constriant_search(df)\n",
    "# structure_learn_by_HC_search(df)\n",
    "# casual_discovery_PC(df)\n",
    "# hybrid_structure_learning(df)\n"
   ]
  },
  {
   "cell_type": "markdown",
   "metadata": {},
   "source": [
    "# Parameter Learning"
   ]
  },
  {
   "cell_type": "code",
   "execution_count": 16,
   "metadata": {},
   "outputs": [],
   "source": [
    "\n",
    "def check_node_feature_names(edges, data):\n",
    "    features = set(data.head().columns)\n",
    "    node_names = set([node for node_pair in edges for node in node_pair])\n",
    "    assert(not features.difference(node_names))\n",
    "\n",
    "def paras_learn_by_bayes(edges, data):\n",
    "    check_node_feature_names(edges, data)\n",
    "    # Make the actual Bayesian DAG\n",
    "    DAG = bn.make_DAG(edges, verbose=0, methodtype='bayes')\n",
    "    model = bn.parameter_learning.fit(DAG, data, verbose=3, methodtype='bayes')\n",
    "    bn.print_CPD(model)\n",
    "    return model\n",
    "\n",
    "def paras_learn_by_ML(edges, data):\n",
    "    check_node_feature_names(edges, data)\n",
    "    DAG = bn.make_DAG(edges, verbose=0, methodtype='bayes')\n",
    "    # print(DAG)\n",
    "    # print(set(data.head().columns))\n",
    "    model = bn.parameter_learning.fit(DAG, data, methodtype='ml')\n",
    "    bn.print_CPD(model)\n",
    "    return model\n",
    "\n",
    "edges = [('Cloudy', 'Sprinkler'),\n",
    "         ('Cloudy', 'Rain'),\n",
    "         ('Sprinkler', 'Wet_Grass'),\n",
    "         ('Rain', 'Wet_Grass')]\n",
    "\n",
    "# paras_learn_by_bayes(edges, df)\n",
    "# paras_learn_by_ML(edges, df)\n",
    "\n"
   ]
  },
  {
   "cell_type": "markdown",
   "metadata": {},
   "source": [
    "# Bayesian Network Learning"
   ]
  },
  {
   "cell_type": "code",
   "execution_count": 67,
   "metadata": {},
   "outputs": [],
   "source": [
    "def bn_learn_by_data(data, structure_setting, para_settting):\n",
    "    if structure_setting == 'cs':\n",
    "        model = bn.structure_learning.fit(data, methodtype='cs')\n",
    "    else:\n",
    "        model = bn.structure_learning.fit(data, methodtype=structure_setting, scoretype='bic')\n",
    "    # prune insignificant edges\n",
    "    model = bn.independence_test(model, data, alpha=0.05, prune=True)\n",
    "    model_bn = bn.parameter_learning.fit(model, df, methodtype=para_settting)  # maximum likelihood estimator\n",
    "    return model_bn\n",
    "\n",
    "def bn_defined():\n",
    "    from pgmpy.factors.discrete import TabularCPD\n",
    "    edges = structure_defined()\n",
    "    DAG = bn.make_DAG(edges)\n",
    "    # Cloudy\n",
    "    cpt_cloudy = TabularCPD(variable='Cloudy', variable_card=2, values=[[0.3], [0.7]])\n",
    "    print(cpt_cloudy)\n",
    "\n",
    "    # Sprinkler\n",
    "    cpt_sprinkler = TabularCPD(variable='Sprinkler', variable_card=2,\n",
    "                            values=[[0.4, 0.9], [0.6, 0.1]],\n",
    "                            evidence=['Cloudy'], evidence_card=[2])\n",
    "    print(cpt_sprinkler)\n",
    "\n",
    "    # Rain\n",
    "    cpt_rain = TabularCPD(variable='Rain', variable_card=2,\n",
    "                        values=[[0.8, 0.2], [0.2, 0.8]],\n",
    "                        evidence=['Cloudy'], evidence_card=[2])\n",
    "    print(cpt_rain)\n",
    "\n",
    "    # Wet Grass\n",
    "    cpt_wet_grass = TabularCPD(variable='Wet_Grass', variable_card=2,\n",
    "                            values=[[1, 0.1, 0.1, 0.01],\n",
    "                                    [0, 0.9, 0.9, 0.99]],\n",
    "                            evidence=['Sprinkler', 'Rain'],\n",
    "                            evidence_card=[2, 2])\n",
    "    DAG = bn.make_DAG(DAG, CPD=[cpt_cloudy, cpt_sprinkler, cpt_rain, cpt_wet_grass])\n",
    "    return DAG\n"
   ]
  },
  {
   "cell_type": "code",
   "execution_count": null,
   "metadata": {},
   "outputs": [],
   "source": [
    "# Save model\n",
    "bn.save(model, filepath='bnlearn_model', overwrite=True)\n",
    "# Learn structure\n",
    "model = bn.structure_learning.fit(df, methodtype='tan', class_node='lung')# Load model\n",
    "model = bn.load(filepath='bnlearn_model')"
   ]
  },
  {
   "cell_type": "markdown",
   "metadata": {},
   "source": [
    "# Inference"
   ]
  },
  {
   "cell_type": "code",
   "execution_count": null,
   "metadata": {},
   "outputs": [],
   "source": [
    "\n",
    "query = bn.inference.fit(model, variables=['Grenn'], evidence={'Aemon': 1, 'Samwell': 1})\n",
    "\n"
   ]
  },
  {
   "cell_type": "markdown",
   "metadata": {},
   "source": [
    "# Experiments"
   ]
  },
  {
   "cell_type": "code",
   "execution_count": 14,
   "metadata": {},
   "outputs": [
    {
     "name": "stdout",
     "output_type": "stream",
     "text": [
      "3241\n"
     ]
    },
    {
     "data": {
      "text/html": [
       "<div>\n",
       "<style scoped>\n",
       "    .dataframe tbody tr th:only-of-type {\n",
       "        vertical-align: middle;\n",
       "    }\n",
       "\n",
       "    .dataframe tbody tr th {\n",
       "        vertical-align: top;\n",
       "    }\n",
       "\n",
       "    .dataframe thead th {\n",
       "        text-align: right;\n",
       "    }\n",
       "</style>\n",
       "<table border=\"1\" class=\"dataframe\">\n",
       "  <thead>\n",
       "    <tr style=\"text-align: right;\">\n",
       "      <th></th>\n",
       "      <th>Gender</th>\n",
       "      <th>Age</th>\n",
       "      <th>Mutation</th>\n",
       "      <th>Smoker</th>\n",
       "      <th>Cancer</th>\n",
       "    </tr>\n",
       "  </thead>\n",
       "  <tbody>\n",
       "    <tr>\n",
       "      <th>0</th>\n",
       "      <td>0</td>\n",
       "      <td>1</td>\n",
       "      <td>0</td>\n",
       "      <td>1</td>\n",
       "      <td>0</td>\n",
       "    </tr>\n",
       "    <tr>\n",
       "      <th>1</th>\n",
       "      <td>0</td>\n",
       "      <td>1</td>\n",
       "      <td>0</td>\n",
       "      <td>1</td>\n",
       "      <td>0</td>\n",
       "    </tr>\n",
       "    <tr>\n",
       "      <th>2</th>\n",
       "      <td>0</td>\n",
       "      <td>0</td>\n",
       "      <td>0</td>\n",
       "      <td>0</td>\n",
       "      <td>1</td>\n",
       "    </tr>\n",
       "    <tr>\n",
       "      <th>3</th>\n",
       "      <td>0</td>\n",
       "      <td>0</td>\n",
       "      <td>0</td>\n",
       "      <td>0</td>\n",
       "      <td>3</td>\n",
       "    </tr>\n",
       "    <tr>\n",
       "      <th>4</th>\n",
       "      <td>0</td>\n",
       "      <td>0</td>\n",
       "      <td>0</td>\n",
       "      <td>0</td>\n",
       "      <td>0</td>\n",
       "    </tr>\n",
       "  </tbody>\n",
       "</table>\n",
       "</div>"
      ],
      "text/plain": [
       "   Gender  Age  Mutation  Smoker  Cancer\n",
       "0       0    1         0       1       0\n",
       "1       0    1         0       1       0\n",
       "2       0    0         0       0       1\n",
       "3       0    0         0       0       3\n",
       "4       0    0         0       0       0"
      ]
     },
     "execution_count": 14,
     "metadata": {},
     "output_type": "execute_result"
    }
   ],
   "source": [
    "import pandas as pd\n",
    "import copy\n",
    "\n",
    "df = pd.read_csv(\"../Causal/Dataset7.csv\")\n",
    "df.replace(['0', '1'], [0, 1], inplace=True)\n",
    "\n",
    "X = df.loc[(df.mutation != 'No')]\n",
    "print(len(set(X.patient_id.values)))\n",
    "X.drop_duplicates(keep='first', inplace=True)\n",
    "# X.drop_duplicates(subset=['patient_id', 'cancer'], keep='first', inplace=True)\n",
    "\n",
    "X = X[['gender', 'age', 'mutation', 'smoker', 'cancer']]\n",
    "\n",
    "X['mutation'].replace(['ALK', 'EGFR', 'PDL1', 'No'], [1, 1, 0, 2], inplace=True)\n",
    "X['gender'].replace(['F', 'M'], [0, 1], inplace=True)\n",
    "X['age'].replace(['Young', 'Old'], [0, 1], inplace=True)\n",
    "X['smoker'].replace(['N', 'P', 'C'], [0, 1, 2], inplace=True)\n",
    "# Cancer Lung\n",
    "X1 = copy.deepcopy(X)\n",
    "X1['cancer'].replace([0, 'No', 'Lung', 'Breast', 'Colorrectal', 'UNK'], [0, 4, 1, 2, 3, 0], inplace=True)\n",
    "\n",
    "\n",
    "df = X1\n",
    "df.rename(columns={'cancer':'Cancer', 'age':'Age', 'gender':'Gender', 'mutation':'Mutation', 'smoker': 'Smoker'}, inplace=True)\n",
    "df.head()"
   ]
  },
  {
   "cell_type": "code",
   "execution_count": 17,
   "metadata": {},
   "outputs": [
    {
     "name": "stdout",
     "output_type": "stream",
     "text": [
      "[bnlearn] >Computing best DAG using [cs]\n"
     ]
    },
    {
     "name": "stderr",
     "output_type": "stream",
     "text": [
      "Working for n conditional variables: 5: 100%|██████████| 5/5 [00:01<00:00,  4.48it/s]\n",
      "Working for n conditional variables: 5: 100%|██████████| 5/5 [00:01<00:00,  4.90it/s]\n"
     ]
    },
    {
     "name": "stdout",
     "output_type": "stream",
     "text": [
      "[bnlearn] >Compute edge strength with [chi_square]\n",
      "[bnlearn]> Set node properties.\n",
      "[bnlearn]> Set edge weights based on the [chi_square] test statistic.\n",
      "[bnlearn]> Set edge properties.\n",
      "[bnlearn] >Plot based on Bayesian model\n"
     ]
    },
    {
     "data": {
      "image/png": "[encoded data removed]",
      "text/plain": [
       "<Figure size 1080x576 with 1 Axes>"
      ]
     },
     "metadata": {},
     "output_type": "display_data"
    },
    {
     "name": "stdout",
     "output_type": "stream",
     "text": [
      "[bnlearn] >Parameter learning> Computing parameters using [bayes]\n",
      "[bnlearn] >CPD of Mutation:\n",
      "+-------------+---------------------+-----+---------------------+\n",
      "| Smoker      | Smoker(0)           | ... | Smoker(2)           |\n",
      "+-------------+---------------------+-----+---------------------+\n",
      "| Mutation(0) | 0.34778780541492404 | ... | 0.787838511380628   |\n",
      "+-------------+---------------------+-----+---------------------+\n",
      "| Mutation(1) | 0.652212194585076   | ... | 0.21216148861937195 |\n",
      "+-------------+---------------------+-----+---------------------+\n",
      "[bnlearn] >CPD of Gender:\n",
      "+-----------+--------------------+-----+--------------------+\n",
      "| Age       | Age(0)             | ... | Age(1)             |\n",
      "+-----------+--------------------+-----+--------------------+\n",
      "| Cancer    | Cancer(0)          | ... | Cancer(4)          |\n",
      "+-----------+--------------------+-----+--------------------+\n",
      "| Mutation  | Mutation(0)        | ... | Mutation(1)        |\n",
      "+-----------+--------------------+-----+--------------------+\n",
      "| Smoker    | Smoker(0)          | ... | Smoker(2)          |\n",
      "+-----------+--------------------+-----+--------------------+\n",
      "| Gender(0) | 0.6516853932584269 | ... | 0.347972972972973  |\n",
      "+-----------+--------------------+-----+--------------------+\n",
      "| Gender(1) | 0.348314606741573  | ... | 0.6520270270270271 |\n",
      "+-----------+--------------------+-----+--------------------+\n",
      "[bnlearn] >CPD of Age:\n",
      "+----------+--------------------+-----+---------------------+\n",
      "| Mutation | Mutation(0)        | ... | Mutation(1)         |\n",
      "+----------+--------------------+-----+---------------------+\n",
      "| Smoker   | Smoker(0)          | ... | Smoker(2)           |\n",
      "+----------+--------------------+-----+---------------------+\n",
      "| Age(0)   | 0.2531645569620253 | ... | 0.33202819107282694 |\n",
      "+----------+--------------------+-----+---------------------+\n",
      "| Age(1)   | 0.7468354430379747 | ... | 0.6679718089271731  |\n",
      "+----------+--------------------+-----+---------------------+\n",
      "[bnlearn] >CPD of Smoker:\n",
      "+-----------+----------+\n",
      "| Smoker(0) | 0.262313 |\n",
      "+-----------+----------+\n",
      "| Smoker(1) | 0.39015  |\n",
      "+-----------+----------+\n",
      "| Smoker(2) | 0.347537 |\n",
      "+-----------+----------+\n",
      "[bnlearn] >CPD of Cancer:\n",
      "+-----------+-----------+\n",
      "| Cancer(0) | 0.283042  |\n",
      "+-----------+-----------+\n",
      "| Cancer(1) | 0.128529  |\n",
      "+-----------+-----------+\n",
      "| Cancer(2) | 0.100987  |\n",
      "+-----------+-----------+\n",
      "| Cancer(3) | 0.0879958 |\n",
      "+-----------+-----------+\n",
      "| Cancer(4) | 0.399446  |\n",
      "+-----------+-----------+\n"
     ]
    }
   ],
   "source": [
    "# load numerical data\n",
    "numeric_df = df\n",
    "\n",
    "# learn structure\n",
    "# structure1 = structure_defined()\n",
    "structure2 = structure_learn_by_Constriant_Based(numeric_df)\n",
    "\n",
    "# learn parameter\n",
    "model2 = paras_learn_by_bayes(structure2, numeric_df)\n",
    "\n",
    "# save or load\n",
    "# bn.save(model, filepath='lung_cancer_bn.model', overwrite=True)\n",
    "# model = bn.load(filepath='lung_cancer_bn.model')\n",
    "\n",
    "\n"
   ]
  },
  {
   "cell_type": "code",
   "execution_count": 21,
   "metadata": {},
   "outputs": [
    {
     "name": "stderr",
     "output_type": "stream",
     "text": [
      "Finding Elimination Order: : : 0it [00:00, ?it/s]\n",
      "0it [00:00, ?it/s]"
     ]
    },
    {
     "name": "stdout",
     "output_type": "stream",
     "text": [
      "+-----------+---------------+\n",
      "| Smoker    |   phi(Smoker) |\n",
      "+===========+===============+\n",
      "| Smoker(0) |        0.4596 |\n",
      "+-----------+---------------+\n",
      "| Smoker(1) |        0.3423 |\n",
      "+-----------+---------------+\n",
      "| Smoker(2) |        0.1981 |\n",
      "+-----------+---------------+\n"
     ]
    },
    {
     "name": "stderr",
     "output_type": "stream",
     "text": [
      "\n"
     ]
    }
   ],
   "source": [
    "# do inference on [\"Patient_id\", 'Age', \"Gender\", \"Smoker\", \"Stage\", \"Treatment\", \"Family\", \"Cancer\", \"Mutation\", \"Relapse\"]\n",
    "bn_model = model2['model']\n",
    "\n",
    "\n",
    "from pgmpy.inference import VariableElimination\n",
    "from pgmpy.factors.discrete import TabularCPD\n",
    "\n",
    "asia_infer = VariableElimination(bn_model)\n",
    "\n",
    "lung_virt_evidence = TabularCPD(variable=\"Cancer\", variable_card=5, values=[[0.7], [0.1], [0.0], [0.1], [0.1]])\n",
    "\n",
    "q = asia_infer.query(variables=['Smoker'], evidence={'Mutation': 1}, virtual_evidence=[lung_virt_evidence])\n",
    "print(q)\n",
    "\n",
    "# 1. which subgroup is more likely if given patient has mutation ALK or EGFR\n",
    "# query = bn.inference.fit(model, variables=['Smoker', 'Gender'], evidence={'Mutation': 1})\n",
    "# 2. which cancer and family is more likely to have if given patient has mutation ALK or EGFR\n",
    "# query = bn.inference.fit(model, variables=['Cancer'], evidence={'Mutation': 1})"
   ]
  },
  {
   "cell_type": "markdown",
   "metadata": {},
   "source": [
    "# Examples"
   ]
  },
  {
   "cell_type": "code",
   "execution_count": 70,
   "metadata": {},
   "outputs": [
    {
     "name": "stdout",
     "output_type": "stream",
     "text": [
      "[bnlearn] >Extracting files..\n"
     ]
    },
    {
     "name": "stderr",
     "output_type": "stream",
     "text": [
      "Generating for node: dysp: 100%|██████████| 8/8 [00:00<00:00, 128.54it/s]"
     ]
    },
    {
     "name": "stdout",
     "output_type": "stream",
     "text": [
      "[bnlearn]> Set node properties.\n",
      "[bnlearn]> Set edge properties.\n",
      "[bnlearn] >Plot based on Bayesian model\n"
     ]
    },
    {
     "name": "stderr",
     "output_type": "stream",
     "text": [
      "\n"
     ]
    },
    {
     "data": {
      "image/png": "[encoded data removed]",
      "text/plain": [
       "<Figure size 1080x576 with 1 Axes>"
      ]
     },
     "metadata": {},
     "output_type": "display_data"
    },
    {
     "name": "stdout",
     "output_type": "stream",
     "text": [
      "[bnlearn] >Removing columns from dataframe to make consistent with DAG [['asia' 'tub' 'either' 'dysp']]\n",
      "[bnlearn] >Parameter learning> Computing parameters using [bayes]\n",
      "[bnlearn] >CPD of smoke:\n",
      "+----------+----------+\n",
      "| smoke(0) | 0.493909 |\n",
      "+----------+----------+\n",
      "| smoke(1) | 0.506091 |\n",
      "+----------+----------+\n",
      "[bnlearn] >CPD of lung:\n",
      "+---------+---------------------+---------------------+\n",
      "| smoke   | smoke(0)            | smoke(1)            |\n",
      "+---------+---------------------+---------------------+\n",
      "| lung(0) | 0.14062212405669058 | 0.05478713849470092 |\n",
      "+---------+---------------------+---------------------+\n",
      "| lung(1) | 0.8593778759433094  | 0.945212861505299   |\n",
      "+---------+---------------------+---------------------+\n",
      "[bnlearn] >CPD of bronc:\n",
      "+----------+--------------------+--------------------+\n",
      "| smoke    | smoke(0)           | smoke(1)           |\n",
      "+----------+--------------------+--------------------+\n",
      "| bronc(0) | 0.5853119823302043 | 0.3245913418358182 |\n",
      "+----------+--------------------+--------------------+\n",
      "| bronc(1) | 0.4146880176697957 | 0.6754086581641818 |\n",
      "+----------+--------------------+--------------------+\n",
      "[bnlearn] >CPD of xray:\n",
      "+---------+---------------------+-----+----------+---------------------+\n",
      "| bronc   | bronc(0)            | ... | bronc(1) | bronc(1)            |\n",
      "+---------+---------------------+-----+----------+---------------------+\n",
      "| lung    | lung(0)             | ... | lung(0)  | lung(1)             |\n",
      "+---------+---------------------+-----+----------+---------------------+\n",
      "| xray(0) | 0.7627416520210897  | ... | 0.744    | 0.08216941773988753 |\n",
      "+---------+---------------------+-----+----------+---------------------+\n",
      "| xray(1) | 0.23725834797891038 | ... | 0.256    | 0.9178305822601125  |\n",
      "+---------+---------------------+-----+----------+---------------------+\n",
      "[bnlearn] >Forward sampling for 1000 samples..\n"
     ]
    },
    {
     "name": "stderr",
     "output_type": "stream",
     "text": [
      "Generating for node: xray: 100%|██████████| 4/4 [00:00<00:00, 393.51it/s]\n"
     ]
    },
    {
     "name": "stdout",
     "output_type": "stream",
     "text": [
      "[bnlearn] >Variable Elimination..\n"
     ]
    },
    {
     "name": "stderr",
     "output_type": "stream",
     "text": [
      "Finding Elimination Order: : : 0it [00:00, ?it/s]\n",
      "0it [00:00, ?it/s]\n"
     ]
    },
    {
     "name": "stdout",
     "output_type": "stream",
     "text": [
      "+----+--------+-----------+\n",
      "|    |   lung |         p |\n",
      "+====+========+===========+\n",
      "|  0 |      0 | 0.0547871 |\n",
      "+----+--------+-----------+\n",
      "|  1 |      1 | 0.945213  |\n",
      "+----+--------+-----------+\n",
      "[bnlearn] >Variable Elimination..\n"
     ]
    },
    {
     "name": "stderr",
     "output_type": "stream",
     "text": [
      "Finding Elimination Order: : : 0it [00:00, ?it/s]\n",
      "0it [00:00, ?it/s]\n"
     ]
    },
    {
     "name": "stdout",
     "output_type": "stream",
     "text": [
      "+----+--------+-----------+\n",
      "|    |   lung |         p |\n",
      "+====+========+===========+\n",
      "|  0 |      0 | 0.0547871 |\n",
      "+----+--------+-----------+\n",
      "|  1 |      1 | 0.945213  |\n",
      "+----+--------+-----------+\n",
      "[bnlearn] >Variable Elimination..\n"
     ]
    },
    {
     "name": "stderr",
     "output_type": "stream",
     "text": [
      "Finding Elimination Order: : : 0it [00:00, ?it/s]\n",
      "0it [00:00, ?it/s]"
     ]
    },
    {
     "name": "stdout",
     "output_type": "stream",
     "text": [
      "+----+---------+--------+----------+\n",
      "|    |   bronc |   lung |        p |\n",
      "+====+=========+========+==========+\n",
      "|  0 |       0 |      0 | 0.113287 |\n",
      "+----+---------+--------+----------+\n",
      "|  1 |       1 |      0 | 0.229935 |\n",
      "+----+---------+--------+----------+\n",
      "|  2 |       0 |      1 | 0.218659 |\n",
      "+----+---------+--------+----------+\n",
      "|  3 |       1 |      1 | 0.438119 |\n",
      "+----+---------+--------+----------+\n",
      "[bnlearn] >Variable Elimination..\n"
     ]
    },
    {
     "name": "stderr",
     "output_type": "stream",
     "text": [
      "\n",
      "Finding Elimination Order: : : 0it [00:00, ?it/s]\n",
      "0it [00:00, ?it/s]"
     ]
    },
    {
     "name": "stdout",
     "output_type": "stream",
     "text": [
      "+----+---------+--------+----------+\n",
      "|    |   bronc |   lung |        p |\n",
      "+====+=========+========+==========+\n",
      "|  0 |       0 |      0 | 0.35196  |\n",
      "+----+---------+--------+----------+\n",
      "|  1 |       1 |      0 | 0.243233 |\n",
      "+----+---------+--------+----------+\n",
      "|  2 |       0 |      1 | 0.240637 |\n",
      "+----+---------+--------+----------+\n",
      "|  3 |       1 |      1 | 0.164169 |\n",
      "+----+---------+--------+----------+\n",
      "['smoke', 'lung', 'bronc', 'xray']\n"
     ]
    },
    {
     "name": "stderr",
     "output_type": "stream",
     "text": [
      "\n"
     ]
    },
    {
     "data": {
      "text/html": [
       "<div>\n",
       "<style scoped>\n",
       "    .dataframe tbody tr th:only-of-type {\n",
       "        vertical-align: middle;\n",
       "    }\n",
       "\n",
       "    .dataframe tbody tr th {\n",
       "        vertical-align: top;\n",
       "    }\n",
       "\n",
       "    .dataframe thead th {\n",
       "        text-align: right;\n",
       "    }\n",
       "</style>\n",
       "<table border=\"1\" class=\"dataframe\">\n",
       "  <thead>\n",
       "    <tr style=\"text-align: right;\">\n",
       "      <th></th>\n",
       "      <th>lung</th>\n",
       "      <th>bronc</th>\n",
       "      <th>p</th>\n",
       "    </tr>\n",
       "  </thead>\n",
       "  <tbody>\n",
       "    <tr>\n",
       "      <th>0</th>\n",
       "      <td>0</td>\n",
       "      <td>0</td>\n",
       "      <td>0.351960</td>\n",
       "    </tr>\n",
       "    <tr>\n",
       "      <th>1</th>\n",
       "      <td>0</td>\n",
       "      <td>1</td>\n",
       "      <td>0.243233</td>\n",
       "    </tr>\n",
       "    <tr>\n",
       "      <th>2</th>\n",
       "      <td>1</td>\n",
       "      <td>0</td>\n",
       "      <td>0.240637</td>\n",
       "    </tr>\n",
       "    <tr>\n",
       "      <th>3</th>\n",
       "      <td>1</td>\n",
       "      <td>1</td>\n",
       "      <td>0.164169</td>\n",
       "    </tr>\n",
       "  </tbody>\n",
       "</table>\n",
       "</div>"
      ],
      "text/plain": [
       "   lung  bronc         p\n",
       "0     0      0  0.351960\n",
       "1     0      1  0.243233\n",
       "2     1      0  0.240637\n",
       "3     1      1  0.164169"
      ]
     },
     "execution_count": 70,
     "metadata": {},
     "output_type": "execute_result"
    }
   ],
   "source": [
    "df = bn.import_example('asia')\n",
    "# from tabulate import tabulate\n",
    "# print(tabulate(df.head(), tablefmt=\"grid\", headers=\"keys\"))\n",
    "edges = [('smoke', 'lung'),\n",
    "         ('smoke', 'bronc'),\n",
    "         ('lung', 'xray'),\n",
    "         ('bronc', 'xray')]\n",
    "\n",
    "# Make the actual Bayesian DAG\n",
    "DAG = bn.make_DAG(edges, verbose=0)\n",
    "bn.plot(DAG)\n",
    "\n",
    "# Learn its parameters from data and perform the inference.\n",
    "DAG = bn.parameter_learning.fit(DAG, df, verbose=3)\n",
    "# Print the CPDs\n",
    "bn.print_CPD(DAG)\n",
    "\n",
    "# Sampling\n",
    "df_sampling = bn.sampling(DAG, n=1000)\n",
    "\n",
    "# Make inference\n",
    "q1 = bn.inference.fit(DAG, variables=['lung'], evidence={'smoke': 1}, verbose=3)\n",
    "q2 = bn.inference.fit(DAG, variables=['bronc'], evidence={'smoke': 1}, verbose=0)\n",
    "q3 = bn.inference.fit(DAG, variables=['lung'], evidence={'smoke': 1, 'bronc': 1})\n",
    "q4 = bn.inference.fit(DAG, variables=['bronc', 'lung'], evidence={'smoke': 1, 'xray': 0})\n",
    "q4 = bn.inference.fit(DAG, variables=['bronc', 'lung'], evidence={'smoke': 0, 'xray': 0})\n",
    "\n",
    "print(bn.topological_sort(DAG))\n",
    "\n",
    "bn.query2df(q4)"
   ]
  },
  {
   "cell_type": "code",
   "execution_count": null,
   "metadata": {},
   "outputs": [],
   "source": [
    "# sampling\n",
    "df = bn.sampling(DAG_1, n=5000)\n",
    "DAG_3 = bn.structure_learning.fit(df)\n",
    "bn.plot(DAG_3, pos=graph['pos'])"
   ]
  },
  {
   "cell_type": "code",
   "execution_count": null,
   "metadata": {},
   "outputs": [
    {
     "name": "stdout",
     "output_type": "stream",
     "text": [
      "[bnlearn] >Import <asia>\n",
      "[bnlearn] >Loading bif file </Users/jason/opt/anaconda3/envs/pytorch38/lib/python3.8/site-packages/bnlearn/data/asia.bif>\n",
      "[bnlearn] >Checking CPDs..\n",
      "[bnlearn] >Check for DAG structure. Correct: True\n",
      "[bnlearn]> Set node properties.\n",
      "[bnlearn]> Set edge properties.\n",
      "[bnlearn] >Plot based on Bayesian model\n"
     ]
    },
    {
     "data": {
      "image/png": "[encoded data removed]",
      "text/plain": [
       "<Figure size 1080x576 with 1 Axes>"
      ]
     },
     "metadata": {},
     "output_type": "display_data"
    },
    {
     "name": "stdout",
     "output_type": "stream",
     "text": [
      "[bnlearn] >Forward sampling for 10000 samples..\n"
     ]
    },
    {
     "name": "stderr",
     "output_type": "stream",
     "text": [
      "Generating for node: dysp: 100%|██████████| 8/8 [00:00<00:00, 186.12it/s]"
     ]
    },
    {
     "name": "stdout",
     "output_type": "stream",
     "text": [
      "[bnlearn] >Computing best DAG using [hc]\n",
      "[bnlearn] >Set scoring type at [bic]\n",
      "[bnlearn] >Filter edges based on black_list/white_list\n"
     ]
    },
    {
     "name": "stderr",
     "output_type": "stream",
     "text": [
      "\n"
     ]
    }
   ],
   "source": [
    "DAG = bn.import_DAG('asia')\n",
    "# plot ground truth\n",
    "G = bn.plot(DAG)\n",
    "# Sampling\n",
    "df = bn.sampling(DAG, n=10000)\n",
    "model_wl = bn.structure_learning.fit(df, methodtype='hc', white_list=['asia', 'tub', 'bronc', 'xray', 'smoke'], bw_list_method='edges')\n",
    "# bn.plot(model_wl, pos=G['pos'])\n",
    "\n",
    "# model_bl = bn.structure_learning.fit(df, methodtype='hc', black_list=['asia', 'tub'], bw_list_method='edges')\n",
    "# bn.plot(model_bl, pos=G['pos'])\n",
    "# Compare models\n",
    "# bn.compare_networks(model_bl, model_wl, pos=G['pos'])"
   ]
  },
  {
   "cell_type": "code",
   "execution_count": null,
   "metadata": {},
   "outputs": [],
   "source": [
    "# %% Adjust some edge properties\n",
    "\n",
    "# Load asia DAG\n",
    "df = bn.import_example(data='asia')\n",
    "# Structure learning of sampled dataset\n",
    "model = bn.structure_learning.fit(df)\n",
    "# plot static\n",
    "G = bn.plot(model)\n",
    "# Compute associations with the chi_square test statistic\n",
    "model = bn.independence_test(model, df)\n",
    "\n",
    "# Set some edge properties\n",
    "edge_properties = bn.get_edge_properties(model)\n",
    "edge_properties['either', 'xray']['color']='#8A0707'\n",
    "edge_properties['either', 'xray']['weight']=4\n",
    "edge_properties['bronc', 'dysp']['weight']=10\n",
    "edge_properties['bronc', 'dysp']['color']='#8A0707'\n",
    "\n",
    "# Set some node properties\n",
    "node_properties = bn.get_node_properties(model)\n",
    "node_properties['xray']['node_color']='#8A0707'\n",
    "node_properties['xray']['node_size']=20\n",
    "\n",
    "# Plot\n",
    "params_static={'edge_alpha': 0.6, 'arrowstyle': '->', 'arrowsize': 60}\n",
    "bn.plot(model, interactive=False, node_properties=node_properties, edge_properties=edge_properties, params_static=params_static)"
   ]
  },
  {
   "cell_type": "code",
   "execution_count": null,
   "metadata": {},
   "outputs": [],
   "source": [
    "# BNLEARN\n",
    "model = bn.structure_learning.fit(df, methodtype='tan', class_node='DISPLACEM0', scoretype='bic')\n",
    "model_bn = bn.parameter_learning.fit(model, df, methodtype='ml')  # maximum likelihood estimator\n",
    "query=bn.inference.fit(model_bn, variables=['DISPLACEM0'], evidence={'RApp1': 1})"
   ]
  },
  {
   "cell_type": "code",
   "execution_count": null,
   "metadata": {},
   "outputs": [
    {
     "name": "stdout",
     "output_type": "stream",
     "text": [
      "[bnlearn] >Extracting files..\n"
     ]
    },
    {
     "name": "stderr",
     "output_type": "stream",
     "text": [
      "Generating for node: dysp: 100%|██████████| 8/8 [00:00<00:00, 103.96it/s]\n"
     ]
    },
    {
     "name": "stdout",
     "output_type": "stream",
     "text": [
      "   smoke  lung  bronc  xray\n",
      "0      1     1      1     1\n",
      "1      1     1      1     1\n",
      "2      1     1      1     1\n",
      "3      0     1      0     1\n",
      "4      0     1      0     1\n",
      "[bnlearn] >Parameter learning> Computing parameters using [bayes]\n",
      "[bnlearn] >CPD of smoke:\n",
      "+----------+----------+\n",
      "| smoke(0) | 0.494091 |\n",
      "+----------+----------+\n",
      "| smoke(1) | 0.505909 |\n",
      "+----------+----------+\n",
      "[bnlearn] >CPD of lung:\n",
      "+---------+---------------------+---------------------+\n",
      "| smoke   | smoke(0)            | smoke(1)            |\n",
      "+---------+---------------------+---------------------+\n",
      "| lung(0) | 0.14461821527138916 | 0.05211141060197664 |\n",
      "+---------+---------------------+---------------------+\n",
      "| lung(1) | 0.8553817847286108  | 0.9478885893980233  |\n",
      "+---------+---------------------+---------------------+\n",
      "[bnlearn] >CPD of bronc:\n",
      "+----------+--------------------+--------------------+\n",
      "| smoke    | smoke(0)           | smoke(1)           |\n",
      "+----------+--------------------+--------------------+\n",
      "| bronc(0) | 0.5970561177552898 | 0.3196765498652291 |\n",
      "+----------+--------------------+--------------------+\n",
      "| bronc(1) | 0.4029438822447102 | 0.6803234501347709 |\n",
      "+----------+--------------------+--------------------+\n",
      "[bnlearn] >CPD of xray:\n",
      "+---------+--------------------+-----+---------------------+\n",
      "| bronc   | bronc(0)           | ... | bronc(1)            |\n",
      "+---------+--------------------+-----+---------------------+\n",
      "| lung    | lung(0)            | ... | lung(1)             |\n",
      "+---------+--------------------+-----+---------------------+\n",
      "| xray(0) | 0.7775831873905429 | ... | 0.07896179857430086 |\n",
      "+---------+--------------------+-----+---------------------+\n",
      "| xray(1) | 0.2224168126094571 | ... | 0.9210382014256991  |\n",
      "+---------+--------------------+-----+---------------------+\n",
      "[bnlearn] >Forward sampling for 1000 samples..\n"
     ]
    },
    {
     "name": "stderr",
     "output_type": "stream",
     "text": [
      "Generating for node: xray: 100%|██████████| 4/4 [00:00<00:00, 329.33it/s]\n"
     ]
    },
    {
     "name": "stdout",
     "output_type": "stream",
     "text": [
      "[bnlearn]> Remaining columns for inference: 2\n"
     ]
    },
    {
     "name": "stderr",
     "output_type": "stream",
     "text": [
      "100%|██████████| 4/4 [00:00<00:00, 80.13it/s]\n"
     ]
    }
   ],
   "source": [
    "df = bn.import_example('asia')\n",
    "edges = [('smoke', 'lung'),\n",
    "         ('smoke', 'bronc'),\n",
    "         ('lung', 'xray'),\n",
    "         ('bronc', 'xray')]\n",
    "\n",
    "df = df[['smoke', 'lung', 'bronc', 'xray']]\n",
    "\n",
    "print(df.head())\n",
    "\n",
    "# Make the actual Bayesian DAG\n",
    "DAG = bn.make_DAG(edges, verbose=0, methodtype='bayes')\n",
    "model = bn.parameter_learning.fit(DAG, df, verbose=3)\n",
    "# Generate some data based on DAG\n",
    "df = bn.sampling(model, n=1000)\n",
    "# Make predictions\n",
    "Pout = bn.predict(model, df, variables=['bronc', 'xray'])"
   ]
  }
 ],
 "metadata": {
  "kernelspec": {
   "display_name": "Python 3.8.13 ('causal')",
   "language": "python",
   "name": "python3"
  },
  "language_info": {
   "codemirror_mode": {
    "name": "ipython",
    "version": 3
   },
   "file_extension": ".py",
   "mimetype": "text/x-python",
   "name": "python",
   "nbconvert_exporter": "python",
   "pygments_lexer": "ipython3",
   "version": "3.8.13"
  },
  "orig_nbformat": 4,
  "vscode": {
   "interpreter": {
    "hash": "a12683aaeac14c2deaa80343f1f02d5d856b61624c85c95b391f69b4cda60a8e"
   }
  }
 },
 "nbformat": 4,
 "nbformat_minor": 2
}
